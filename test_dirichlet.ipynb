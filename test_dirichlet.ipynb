{
 "cells": [
  {
   "cell_type": "code",
   "execution_count": 1,
   "id": "b76245ce",
   "metadata": {},
   "outputs": [],
   "source": [
    "import numpy as np\n",
    "\n",
    "def test_dirichlet(alpha, n_samples=10):\n",
    "    \"\"\"\n",
    "    Sample from a Dirichlet distribution and compute statistics.\n",
    "    \n",
    "    Parameters:\n",
    "    -----------\n",
    "    alpha : list or np.ndarray\n",
    "        Dirichlet concentration parameters (length k)\n",
    "    n_samples : int\n",
    "        Number of samples to draw\n",
    "\n",
    "    Returns:\n",
    "    --------\n",
    "    mean : np.ndarray\n",
    "        Mean of samples\n",
    "    var : np.ndarray\n",
    "        Variance of samples\n",
    "    \"\"\"\n",
    "    samples = np.random.dirichlet(alpha, size=n_samples)\n",
    "    mean = samples.mean(axis=0)\n",
    "    var = samples.var(axis=0)\n",
    "    return mean, var, samples\n",
    "\n",
    "# if __name__ == \"__main__\":\n",
    "#     # Example: 4-category Dirichlet\n",
    "#     diag_mean = 0.94\n",
    "#     off_mean = (1 - diag_mean) / 3\n",
    "#     kappa = 2000  # controls variance\n",
    "\n",
    "#     # Expected mean row\n",
    "#     mu = np.array([diag_mean, off_mean, off_mean, off_mean])\n",
    "#     alpha = kappa * mu\n",
    "\n",
    "#     mean, var, samples = test_dirichlet(alpha)\n",
    "\n",
    "#     print(\"Alpha parameters:\", alpha)\n",
    "#     print(\"Sample mean:\", mean)\n",
    "#     print(\"Sample variance:\", var)\n",
    "\n",
    "#     # Check row sums (should be all ~1)\n",
    "#     print(\"Average row sum:\", samples.sum(axis=1).mean())\n"
   ]
  },
  {
   "cell_type": "code",
   "execution_count": 33,
   "id": "aa910efd",
   "metadata": {},
   "outputs": [
    {
     "name": "stdout",
     "output_type": "stream",
     "text": [
      "[[0.96298374 0.01306432 0.01373795 0.01021399]]\n"
     ]
    }
   ],
   "source": [
    "# s = np.random.dirichlet((970, 10, 10, 10, 970, 10, 10, 10, 970, 10, 10, 10, 970, 10, 10, 10), 20)\n",
    "# import matplotlib.pyplot as plt\n",
    "\n",
    "# print(s[0])\n",
    "\n",
    "# print(sum(s[0][0:4]))\n",
    "\n",
    "# print(sum(s[0][4:8]))\n",
    "# print(sum(s[0][8:12]))\n",
    "# print(sum(s[0][12:16]))\n",
    "\n",
    "s = np.random.dirichlet((1986,27,27,27), 1)\n",
    "\n",
    "\n",
    "\n",
    "print(s)\n"
   ]
  }
 ],
 "metadata": {
  "kernelspec": {
   "display_name": ".maxim",
   "language": "python",
   "name": "python3"
  },
  "language_info": {
   "codemirror_mode": {
    "name": "ipython",
    "version": 3
   },
   "file_extension": ".py",
   "mimetype": "text/x-python",
   "name": "python",
   "nbconvert_exporter": "python",
   "pygments_lexer": "ipython3",
   "version": "3.12.3"
  }
 },
 "nbformat": 4,
 "nbformat_minor": 5
}
